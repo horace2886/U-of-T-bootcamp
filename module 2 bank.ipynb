{
 "cells": [
  {
   "cell_type": "code",
   "execution_count": 19,
   "metadata": {},
   "outputs": [],
   "source": [
    "# Imported libraries\n",
    "import csv\n",
    "from pathlib import Path"
   ]
  },
  {
   "cell_type": "code",
   "execution_count": 20,
   "metadata": {},
   "outputs": [
    {
     "name": "stdout",
     "output_type": "stream",
     "text": [
      "Current Working Directory:/Users/admin/Desktop/python_bootcamp/python-homework/PyRamen\n"
     ]
    }
   ],
   "source": [
    "print(f\"Current Working Directory:{Path.cwd()}\")"
   ]
  },
  {
   "cell_type": "code",
   "execution_count": 21,
   "metadata": {},
   "outputs": [],
   "source": [
    "# Set the file paths for menu_data.csv and sales_data.csv\n",
    "menu_filepath = Path('../PyRamen/menu_data.csv')\n",
    "sales_filepath = Path('../PyRamen/sales_data.csv')"
   ]
  },
  {
   "cell_type": "code",
   "execution_count": 22,
   "metadata": {},
   "outputs": [],
   "source": [
    "# @TODO: Initialize list objects to hold our menu and sales data\n",
    "menu = []\n",
    "sales = []"
   ]
  },
  {
   "cell_type": "code",
   "execution_count": 26,
   "metadata": {},
   "outputs": [
    {
     "name": "stdout",
     "output_type": "stream",
     "text": [
      "<class '_io.TextIOWrapper'>\n",
      "<class '_csv.reader'>\n",
      "['item', 'category', 'description', 'price', 'cost'] <--------- HEADER\n"
     ]
    }
   ],
   "source": [
    "# @TODO: Read in the menu data into the menu list\n",
    "with open(menu_filepath, 'r') as menucsv:\n",
    "    \n",
    "    # Datatype of the file object\n",
    "    print(type(menucsv))\n",
    "    \n",
    "    # with ',' as the delimiter and returns the object\n",
    "    menureader = csv.reader(menucsv, delimiter=',')\n",
    "   \n",
    "    # Prints the datatype of the menureader\n",
    "    print(type(menureader))\n",
    "    header = next(menureader)\n",
    "    row_count += 1\n",
    "    print(f\"{header} <--------- HEADER\")\n",
    "    \n",
    "    for line in menureader:\n",
    "        menu.append(line)\n",
    "    "
   ]
  },
  {
   "cell_type": "code",
   "execution_count": 28,
   "metadata": {},
   "outputs": [
    {
     "name": "stdout",
     "output_type": "stream",
     "text": [
      "<class '_io.TextIOWrapper'>\n",
      "<class '_csv.reader'>\n",
      "['Line_Item_ID', 'Date', 'Credit_Card_Number', 'Quantity', 'Menu_Item'] <--------- HEADER\n"
     ]
    }
   ],
   "source": [
    "# @TODO: Read in the sales data into the sales list\n",
    "with open(sales_filepath, 'r') as salescsv:\n",
    "    print(type(salescsv))\n",
    "    \n",
    "    salesreader = csv.reader(salescsv, delimiter=',')\n",
    "    \n",
    "    print(type(salesreader))\n",
    "    \n",
    "    header = next(salesreader)\n",
    "    row_count += 1\n",
    "    print(f\"{header} <--------- HEADER\")\n",
    "    \n",
    "    for line in salesreader:\n",
    "        sales.append(line)\n",
    "  "
   ]
  },
  {
   "cell_type": "code",
   "execution_count": 29,
   "metadata": {},
   "outputs": [],
   "source": [
    "# @TODO: Initialize dict object to hold our key-value pairs of items and metrics\n",
    "report = {}"
   ]
  },
  {
   "cell_type": "code",
   "execution_count": 18,
   "metadata": {},
   "outputs": [
    {
     "name": "stdout",
     "output_type": "stream",
     "text": [
      "Total number of records in sales data: 74124\n"
     ]
    }
   ],
   "source": [
    "# Initialize a row counter variable\n",
    "row_count = 0\n",
    "for row in sales: \n",
    "    # Line_Item_ID,Date,Credit_Card_Number,Quantity,Menu_Item\n",
    "\n",
    "    # @TODO: Initialize sales data variables\n",
    "    line_item_id = row[0]\n",
    "    date = row[1]\n",
    "    credit_card_number = row[2]\n",
    "    quantity = int(row[3])\n",
    "    menu_item = row[4]\n",
    "\n",
    "    # @TODO:\n",
    "    # If the item value not in the report, add it as a new entry with initialized metrics\n",
    "    if menu_item not in report.keys():\n",
    "        report[menu_item] = {\n",
    "            \"01-count\": 0,\n",
    "            \"02-revenue\": 0,\n",
    "            \"03-cogs\": 0,\n",
    "            \"04-profit\": 0,\n",
    "        }\n",
    "\n",
    "    # Naming convention allows the keys to be ordered in logical fashion, count, revenue, cost, profit\n",
    "    for fooditem in menu:\n",
    "     # For every row in our sales data, loop over the menu records to determine a match\n",
    "        \n",
    "        # Item,Category,Description,Price,Cost\n",
    "        # @TODO: Initialize menu data variables\n",
    "        item = fooditem[0]\n",
    "        category = fooditem[1]\n",
    "        description = fooditem[2]\n",
    "        price = float(fooditem[3])\n",
    "        cost = float(fooditem[4])\n",
    "\n",
    "        # @TODO: Calculate profit of each item in the menu data\n",
    "        profit = price - cost \n",
    "        \n",
    "        # @TODO: If the item value in our sales data is equal to the any of the items in the menu, then begin tracking metrics for that item\n",
    "        if (menu_item == item):\n",
    "        \n",
    "            # @TODO: Print out matching menu data\n",
    "            # print(fooditem)\n",
    "            \n",
    "            # @TODO: Cumulatively add up the metrics for each item key\n",
    "            report[menu_item][\"01-count\"] += quantity\n",
    "            report[menu_item][\"02-revenue\"] += price * quantity\n",
    "            report[menu_item][\"03-cogs\"] += cost * quantity\n",
    "            report[menu_item][\"04-profit\"] += profit * quantity\n",
    "\n",
    "\n",
    "        # @TODO: Else, the sales item does not equal any fo the item in the menu data, therefore no match\n",
    "        else:\n",
    "            #print(\"{menu_item} does not equal {item}! NO MATCH!\")\n",
    "            ;\n",
    "\n",
    "    # @TODO: Increment the row counter by 1\n",
    "    row_count += 1\n",
    "    \n",
    "# @TODO: Print total number of records in sales data\n",
    "print(f\"Total number of records in sales data: {row_count}\")\n",
    "\n",
    "# @TODO: Write out report to a text file (won't appear on the command line output)\n",
    "output_path = Path('ramen_report.txt')\n",
    "\n",
    "with open(output_path, 'w') as file:\n",
    "    file.write('Ichiban Ramen report\\n')\n",
    "    for key, value in report.items():\n",
    "        file.write(f\"{key} {value}\\n\")"
   ]
  },
  {
   "cell_type": "code",
   "execution_count": null,
   "metadata": {},
   "outputs": [],
   "source": []
  }
 ],
 "metadata": {
  "kernelspec": {
   "display_name": "Python 3",
   "language": "python",
   "name": "python3"
  },
  "language_info": {
   "codemirror_mode": {
    "name": "ipython",
    "version": 3
   },
   "file_extension": ".py",
   "mimetype": "text/x-python",
   "name": "python",
   "nbconvert_exporter": "python",
   "pygments_lexer": "ipython3",
   "version": "3.8.3"
  }
 },
 "nbformat": 4,
 "nbformat_minor": 4
}
