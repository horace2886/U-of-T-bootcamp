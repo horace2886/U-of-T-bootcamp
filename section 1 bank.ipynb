{
 "cells": [
  {
   "cell_type": "code",
   "execution_count": 65,
   "metadata": {},
   "outputs": [
    {
     "name": "stdout",
     "output_type": "stream",
     "text": [
      "      Date  Profit_Losses\n",
      "0   Jan-10         867884\n",
      "1   Feb-10         984655\n",
      "2   Mar-10         322013\n",
      "3   Apr-10         -69417\n",
      "4   May-10         310503\n",
      "..     ...            ...\n",
      "81  Oct-16         102685\n",
      "82  Nov-16         795914\n",
      "83  Dec-16          60988\n",
      "84  Jan-17         138230\n",
      "85  Feb-17         671099\n",
      "\n",
      "[86 rows x 2 columns]\n"
     ]
    }
   ],
   "source": [
    "import pandas as pd\n",
    "\n",
    "df = pd.read_csv(r'C:\\Users\\horac\\Desktop\\fintech\\Instructions\\PyBank\\Resources\\budget_data.csv')\n",
    "print(df)\n",
    "# Read the dataframe"
   ]
  },
  {
   "cell_type": "code",
   "execution_count": 68,
   "metadata": {},
   "outputs": [
    {
     "data": {
      "text/plain": [
       "86"
      ]
     },
     "execution_count": 68,
     "metadata": {},
     "output_type": "execute_result"
    }
   ],
   "source": [
    "month_count=len(df.Date.drop_duplicates())\n",
    "month_count"
   ]
  },
  {
   "cell_type": "code",
   "execution_count": 7,
   "metadata": {},
   "outputs": [
    {
     "data": {
      "text/plain": [
       "38382578"
      ]
     },
     "execution_count": 7,
     "metadata": {},
     "output_type": "execute_result"
    }
   ],
   "source": [
    "Total_revenue = sum(df.Profit_Losses)\n",
    "Total_revenue"
   ]
  },
  {
   "cell_type": "code",
   "execution_count": 48,
   "metadata": {},
   "outputs": [],
   "source": [
    "total_change=0\n",
    "profit_change_list = [] #creating a list to keep track of all the increase and decrease in profits \n",
    "\n",
    "\n",
    "#Use a for loop to get the total change for profit/loss, also \n",
    "for x in range(len(df.Profit_Losses)-1):\n",
    "    single_change=df.Profit_Losses[x]-df.Profit_Losses[x+1]\n",
    "    profit_change_list.append(single_change)\n",
    "    total_change=total_change-single_change\n",
    "\n"
   ]
  },
  {
   "cell_type": "code",
   "execution_count": 55,
   "metadata": {},
   "outputs": [],
   "source": [
    "average_change=total_change/(len(df.Profit_Losses)-1) #average"
   ]
  },
  {
   "cell_type": "code",
   "execution_count": 59,
   "metadata": {},
   "outputs": [],
   "source": [
    "best=df.iloc[change_list.index(max(change_list))]\n",
    "worst = df.iloc[change_list.index(min(change_list))]\n",
    "#month where bank make most profit and lost"
   ]
  },
  {
   "cell_type": "code",
   "execution_count": 69,
   "metadata": {},
   "outputs": [
    {
     "name": "stdout",
     "output_type": "stream",
     "text": [
      "Total Months: 86\n",
      "Total_revenue: $38382578\n",
      "Average Change: $-2315.1176470588234\n",
      "The Greatest Increase in Profits: Aug-13 ($999942)\n",
      "The Greatest Increase in Profits: Jan-12 ($-755566)\n"
     ]
    }
   ],
   "source": [
    "print(\"Total Months:\", month_count)\n",
    "print(f\"Total_revenue: ${Total_revenue}\")\n",
    "print(f\"Average Change: ${average_change}\")\n",
    "print (f\"The Greatest Increase in Profits: {best[0]} (${best[1]})\")\n",
    "print (f\"The Greatest Increase in Profits: {worst[0]} (${worst[1]})\")"
   ]
  },
  {
   "cell_type": "code",
   "execution_count": null,
   "metadata": {},
   "outputs": [],
   "source": []
  }
 ],
 "metadata": {
  "kernelspec": {
   "display_name": "Python 3",
   "language": "python",
   "name": "python3"
  },
  "language_info": {
   "codemirror_mode": {
    "name": "ipython",
    "version": 3
   },
   "file_extension": ".py",
   "mimetype": "text/x-python",
   "name": "python",
   "nbconvert_exporter": "python",
   "pygments_lexer": "ipython3",
   "version": "3.8.3"
  }
 },
 "nbformat": 4,
 "nbformat_minor": 4
}
