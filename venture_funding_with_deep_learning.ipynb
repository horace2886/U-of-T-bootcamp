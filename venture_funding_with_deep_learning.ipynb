{
 "cells": [
  {
   "cell_type": "markdown",
   "metadata": {},
   "source": [
    "# Venture Funding with Deep Learning\n",
    "\n",
    "You work as a risk management associate at Alphabet Soup, a venture capital firm. Alphabet Soup’s business team receives many funding applications from startups every day. This team has asked you to help them create a model that predicts whether applicants will be successful if funded by Alphabet Soup.\n",
    "\n",
    "The business team has given you a CSV containing more than 34,000 organizations that have received funding from Alphabet Soup over the years. With your knowledge of machine learning and neural networks, you decide to use the features in the provided dataset to create a binary classifier model that will predict whether an applicant will become a successful business. The CSV file contains a variety of information about these businesses, including whether or not they ultimately became successful.\n",
    "\n",
    "## Instructions:\n",
    "\n",
    "The steps for this challenge are broken out into the following sections:\n",
    "\n",
    "* Prepare the data for use on a neural network model.\n",
    "\n",
    "* Compile and evaluate a binary classification model using a neural network.\n",
    "\n",
    "* Optimize the neural network model.\n",
    "\n",
    "### Prepare the Data for Use on a Neural Network Model \n",
    "\n",
    "Using your knowledge of Pandas and scikit-learn’s `StandardScaler()`, preprocess the dataset so that you can use it to compile and evaluate the neural network model later.\n",
    "\n",
    "Open the starter code file, and complete the following data preparation steps:\n",
    "\n",
    "1. Read the `applicants_data.csv` file into a Pandas DataFrame. Review the DataFrame, looking for categorical variables that will need to be encoded, as well as columns that could eventually define your features and target variables.   \n",
    "\n",
    "2. Drop the “EIN” (Employer Identification Number) and “NAME” columns from the DataFrame, because they are not relevant to the binary classification model.\n",
    " \n",
    "3. Encode the dataset’s categorical variables using `OneHotEncoder`, and then place the encoded variables into a new DataFrame.\n",
    "\n",
    "4. Add the original DataFrame’s numerical variables to the DataFrame containing the encoded variables.\n",
    "\n",
    "> **Note** To complete this step, you will employ the Pandas `concat()` function that was introduced earlier in this course. \n",
    "\n",
    "5. Using the preprocessed data, create the features (`X`) and target (`y`) datasets. The target dataset should be defined by the preprocessed DataFrame column “IS_SUCCESSFUL”. The remaining columns should define the features dataset. \n",
    "\n",
    "6. Split the features and target sets into training and testing datasets.\n",
    "\n",
    "7. Use scikit-learn's `StandardScaler` to scale the features data.\n",
    "\n",
    "### Compile and Evaluate a Binary Classification Model Using a Neural Network\n",
    "\n",
    "Use your knowledge of TensorFlow to design a binary classification deep neural network model. This model should use the dataset’s features to predict whether an Alphabet Soup&ndash;funded startup will be successful based on the features in the dataset. Consider the number of inputs before determining the number of layers that your model will contain or the number of neurons on each layer. Then, compile and fit your model. Finally, evaluate your binary classification model to calculate the model’s loss and accuracy. \n",
    " \n",
    "To do so, complete the following steps:\n",
    "\n",
    "1. Create a deep neural network by assigning the number of input features, the number of layers, and the number of neurons on each layer using Tensorflow’s Keras.\n",
    "\n",
    "> **Hint** You can start with a two-layer deep neural network model that uses the `relu` activation function for both layers.\n",
    "\n",
    "2. Compile and fit the model using the `binary_crossentropy` loss function, the `adam` optimizer, and the `accuracy` evaluation metric.\n",
    "\n",
    "> **Hint** When fitting the model, start with a small number of epochs, such as 20, 50, or 100.\n",
    "\n",
    "3. Evaluate the model using the test data to determine the model’s loss and accuracy.\n",
    "\n",
    "4. Save and export your model to an HDF5 file, and name the file `AlphabetSoup.h5`. \n",
    "\n",
    "### Optimize the Neural Network Model\n",
    "\n",
    "Using your knowledge of TensorFlow and Keras, optimize your model to improve the model's accuracy. Even if you do not successfully achieve a better accuracy, you'll need to demonstrate at least two attempts to optimize the model. You can include these attempts in your existing notebook. Or, you can make copies of the starter notebook in the same folder, rename them, and code each model optimization in a new notebook. \n",
    "\n",
    "> **Note** You will not lose points if your model does not achieve a high accuracy, as long as you make at least two attempts to optimize the model.\n",
    "\n",
    "To do so, complete the following steps:\n",
    "\n",
    "1. Define at least three new deep neural network models (the original plus 2 optimization attempts). With each, try to improve on your first model’s predictive accuracy.\n",
    "\n",
    "> **Rewind** Recall that perfect accuracy has a value of 1, so accuracy improves as its value moves closer to 1. To optimize your model for a predictive accuracy as close to 1 as possible, you can use any or all of the following techniques:\n",
    ">\n",
    "> * Adjust the input data by dropping different features columns to ensure that no variables or outliers confuse the model.\n",
    ">\n",
    "> * Add more neurons (nodes) to a hidden layer.\n",
    ">\n",
    "> * Add more hidden layers.\n",
    ">\n",
    "> * Use different activation functions for the hidden layers.\n",
    ">\n",
    "> * Add to or reduce the number of epochs in the training regimen.\n",
    "\n",
    "2. After finishing your models, display the accuracy scores achieved by each model, and compare the results.\n",
    "\n",
    "3. Save each of your models as an HDF5 file.\n"
   ]
  },
  {
   "cell_type": "code",
   "execution_count": 3,
   "metadata": {},
   "outputs": [],
   "source": [
    "# Imports\n",
    "import pandas as pd\n",
    "from pathlib import Path\n",
    "import tensorflow as tf\n",
    "from tensorflow.keras.layers import Dense\n",
    "from tensorflow.keras.models import Sequential\n",
    "from sklearn.model_selection import train_test_split\n",
    "from sklearn.preprocessing import StandardScaler,OneHotEncoder"
   ]
  },
  {
   "cell_type": "code",
   "execution_count": 2,
   "metadata": {},
   "outputs": [
    {
     "name": "stdout",
     "output_type": "stream",
     "text": [
      "Collecting tensorflow\n",
      "  Downloading tensorflow-2.12.0-cp310-cp310-win_amd64.whl (1.9 kB)\n",
      "Collecting tensorflow-intel==2.12.0\n",
      "  Downloading tensorflow_intel-2.12.0-cp310-cp310-win_amd64.whl (272.8 MB)\n",
      "     ------------------------------------- 272.8/272.8 MB 12.6 MB/s eta 0:00:00\n",
      "Requirement already satisfied: wrapt<1.15,>=1.11.0 in c:\\users\\horac\\ana\\lib\\site-packages (from tensorflow-intel==2.12.0->tensorflow) (1.14.1)\n",
      "Collecting keras<2.13,>=2.12.0\n",
      "  Downloading keras-2.12.0-py2.py3-none-any.whl (1.7 MB)\n",
      "     ---------------------------------------- 1.7/1.7 MB 37.6 MB/s eta 0:00:00\n",
      "Collecting opt-einsum>=2.3.2\n",
      "  Downloading opt_einsum-3.3.0-py3-none-any.whl (65 kB)\n",
      "     ---------------------------------------- 65.5/65.5 kB ? eta 0:00:00\n",
      "Requirement already satisfied: setuptools in c:\\users\\horac\\ana\\lib\\site-packages (from tensorflow-intel==2.12.0->tensorflow) (65.6.3)\n",
      "Requirement already satisfied: h5py>=2.9.0 in c:\\users\\horac\\ana\\lib\\site-packages (from tensorflow-intel==2.12.0->tensorflow) (3.7.0)\n",
      "Collecting grpcio<2.0,>=1.24.3\n",
      "  Downloading grpcio-1.54.2-cp310-cp310-win_amd64.whl (4.1 MB)\n",
      "     ---------------------------------------- 4.1/4.1 MB 29.2 MB/s eta 0:00:00\n",
      "Collecting flatbuffers>=2.0\n",
      "  Downloading flatbuffers-23.5.9-py2.py3-none-any.whl (26 kB)\n",
      "Collecting jax>=0.3.15\n",
      "  Downloading jax-0.4.10.tar.gz (1.3 MB)\n",
      "     ---------------------------------------- 1.3/1.3 MB 39.6 MB/s eta 0:00:00\n",
      "  Installing build dependencies: started\n",
      "  Installing build dependencies: finished with status 'done'\n",
      "  Getting requirements to build wheel: started\n",
      "  Getting requirements to build wheel: finished with status 'done'\n",
      "  Preparing metadata (pyproject.toml): started\n",
      "  Preparing metadata (pyproject.toml): finished with status 'done'\n",
      "Requirement already satisfied: numpy<1.24,>=1.22 in c:\\users\\horac\\ana\\lib\\site-packages (from tensorflow-intel==2.12.0->tensorflow) (1.23.5)\n",
      "Requirement already satisfied: six>=1.12.0 in c:\\users\\horac\\ana\\lib\\site-packages (from tensorflow-intel==2.12.0->tensorflow) (1.16.0)\n",
      "Requirement already satisfied: packaging in c:\\users\\horac\\ana\\lib\\site-packages (from tensorflow-intel==2.12.0->tensorflow) (22.0)\n",
      "Collecting protobuf!=4.21.0,!=4.21.1,!=4.21.2,!=4.21.3,!=4.21.4,!=4.21.5,<5.0.0dev,>=3.20.3\n",
      "  Downloading protobuf-4.23.1-cp310-abi3-win_amd64.whl (422 kB)\n",
      "     ------------------------------------- 422.5/422.5 kB 27.5 MB/s eta 0:00:00\n",
      "Collecting termcolor>=1.1.0\n",
      "  Downloading termcolor-2.3.0-py3-none-any.whl (6.9 kB)\n",
      "Collecting google-pasta>=0.1.1\n",
      "  Downloading google_pasta-0.2.0-py3-none-any.whl (57 kB)\n",
      "     ---------------------------------------- 57.5/57.5 kB ? eta 0:00:00\n",
      "Collecting astunparse>=1.6.0\n",
      "  Downloading astunparse-1.6.3-py2.py3-none-any.whl (12 kB)\n",
      "Collecting tensorflow-io-gcs-filesystem>=0.23.1\n",
      "  Downloading tensorflow_io_gcs_filesystem-0.31.0-cp310-cp310-win_amd64.whl (1.5 MB)\n",
      "     ---------------------------------------- 1.5/1.5 MB 18.9 MB/s eta 0:00:00\n",
      "Requirement already satisfied: typing-extensions>=3.6.6 in c:\\users\\horac\\ana\\lib\\site-packages (from tensorflow-intel==2.12.0->tensorflow) (4.4.0)\n",
      "Collecting tensorboard<2.13,>=2.12\n",
      "  Downloading tensorboard-2.12.3-py3-none-any.whl (5.6 MB)\n",
      "     ---------------------------------------- 5.6/5.6 MB 29.9 MB/s eta 0:00:00\n",
      "Collecting tensorflow-estimator<2.13,>=2.12.0\n",
      "  Downloading tensorflow_estimator-2.12.0-py2.py3-none-any.whl (440 kB)\n",
      "     ------------------------------------- 440.7/440.7 kB 28.7 MB/s eta 0:00:00\n",
      "Collecting absl-py>=1.0.0\n",
      "  Downloading absl_py-1.4.0-py3-none-any.whl (126 kB)\n",
      "     ---------------------------------------- 126.5/126.5 kB ? eta 0:00:00\n",
      "Collecting libclang>=13.0.0\n",
      "  Downloading libclang-16.0.0-py2.py3-none-win_amd64.whl (24.4 MB)\n",
      "     --------------------------------------- 24.4/24.4 MB 25.2 MB/s eta 0:00:00\n",
      "Collecting gast<=0.4.0,>=0.2.1\n",
      "  Downloading gast-0.4.0-py3-none-any.whl (9.8 kB)\n",
      "Requirement already satisfied: wheel<1.0,>=0.23.0 in c:\\users\\horac\\ana\\lib\\site-packages (from astunparse>=1.6.0->tensorflow-intel==2.12.0->tensorflow) (0.38.4)\n",
      "Requirement already satisfied: scipy>=1.7 in c:\\users\\horac\\ana\\lib\\site-packages (from jax>=0.3.15->tensorflow-intel==2.12.0->tensorflow) (1.10.0)\n",
      "Collecting ml-dtypes>=0.1.0\n",
      "  Downloading ml_dtypes-0.1.0-cp310-cp310-win_amd64.whl (120 kB)\n",
      "     -------------------------------------- 120.4/120.4 kB 6.9 MB/s eta 0:00:00\n",
      "Requirement already satisfied: requests<3,>=2.21.0 in c:\\users\\horac\\ana\\lib\\site-packages (from tensorboard<2.13,>=2.12->tensorflow-intel==2.12.0->tensorflow) (2.28.1)\n",
      "Collecting google-auth<3,>=1.6.3\n",
      "  Downloading google_auth-2.19.0-py2.py3-none-any.whl (181 kB)\n",
      "     ------------------------------------- 181.3/181.3 kB 11.4 MB/s eta 0:00:00\n",
      "Requirement already satisfied: werkzeug>=1.0.1 in c:\\users\\horac\\ana\\lib\\site-packages (from tensorboard<2.13,>=2.12->tensorflow-intel==2.12.0->tensorflow) (2.2.2)\n",
      "Collecting tensorboard-data-server<0.8.0,>=0.7.0\n",
      "  Downloading tensorboard_data_server-0.7.0-py3-none-any.whl (2.4 kB)\n",
      "Collecting google-auth-oauthlib<1.1,>=0.5\n",
      "  Downloading google_auth_oauthlib-1.0.0-py2.py3-none-any.whl (18 kB)\n",
      "Requirement already satisfied: markdown>=2.6.8 in c:\\users\\horac\\ana\\lib\\site-packages (from tensorboard<2.13,>=2.12->tensorflow-intel==2.12.0->tensorflow) (3.4.1)\n",
      "Collecting rsa<5,>=3.1.4\n",
      "  Downloading rsa-4.9-py3-none-any.whl (34 kB)\n",
      "Requirement already satisfied: urllib3<2.0 in c:\\users\\horac\\ana\\lib\\site-packages (from google-auth<3,>=1.6.3->tensorboard<2.13,>=2.12->tensorflow-intel==2.12.0->tensorflow) (1.26.14)\n",
      "Requirement already satisfied: pyasn1-modules>=0.2.1 in c:\\users\\horac\\ana\\lib\\site-packages (from google-auth<3,>=1.6.3->tensorboard<2.13,>=2.12->tensorflow-intel==2.12.0->tensorflow) (0.2.8)\n",
      "Collecting cachetools<6.0,>=2.0.0\n",
      "  Downloading cachetools-5.3.0-py3-none-any.whl (9.3 kB)\n",
      "Collecting requests-oauthlib>=0.7.0\n",
      "  Downloading requests_oauthlib-1.3.1-py2.py3-none-any.whl (23 kB)\n",
      "Requirement already satisfied: certifi>=2017.4.17 in c:\\users\\horac\\ana\\lib\\site-packages (from requests<3,>=2.21.0->tensorboard<2.13,>=2.12->tensorflow-intel==2.12.0->tensorflow) (2022.12.7)\n",
      "Requirement already satisfied: idna<4,>=2.5 in c:\\users\\horac\\ana\\lib\\site-packages (from requests<3,>=2.21.0->tensorboard<2.13,>=2.12->tensorflow-intel==2.12.0->tensorflow) (3.4)\n",
      "Requirement already satisfied: charset-normalizer<3,>=2 in c:\\users\\horac\\ana\\lib\\site-packages (from requests<3,>=2.21.0->tensorboard<2.13,>=2.12->tensorflow-intel==2.12.0->tensorflow) (2.0.4)\n",
      "Requirement already satisfied: MarkupSafe>=2.1.1 in c:\\users\\horac\\ana\\lib\\site-packages (from werkzeug>=1.0.1->tensorboard<2.13,>=2.12->tensorflow-intel==2.12.0->tensorflow) (2.1.1)\n",
      "Requirement already satisfied: pyasn1<0.5.0,>=0.4.6 in c:\\users\\horac\\ana\\lib\\site-packages (from pyasn1-modules>=0.2.1->google-auth<3,>=1.6.3->tensorboard<2.13,>=2.12->tensorflow-intel==2.12.0->tensorflow) (0.4.8)\n",
      "Collecting oauthlib>=3.0.0\n",
      "  Downloading oauthlib-3.2.2-py3-none-any.whl (151 kB)\n",
      "     ---------------------------------------- 151.7/151.7 kB ? eta 0:00:00\n",
      "Building wheels for collected packages: jax\n",
      "  Building wheel for jax (pyproject.toml): started\n",
      "  Building wheel for jax (pyproject.toml): finished with status 'done'\n",
      "  Created wheel for jax: filename=jax-0.4.10-py3-none-any.whl size=1480617 sha256=73bc855529175aef33852b4759feb14a1ab0a2acd7a06d87932c0ba80e82cedd\n",
      "  Stored in directory: c:\\users\\horac\\appdata\\local\\pip\\cache\\wheels\\f8\\55\\5b\\9dde9a2af48db48d64b8cc3877f0670cf11c5d78de392c3f05\n",
      "Successfully built jax\n",
      "Installing collected packages: libclang, flatbuffers, termcolor, tensorflow-io-gcs-filesystem, tensorflow-estimator, tensorboard-data-server, rsa, protobuf, opt-einsum, oauthlib, ml-dtypes, keras, grpcio, google-pasta, gast, cachetools, astunparse, absl-py, requests-oauthlib, jax, google-auth, google-auth-oauthlib, tensorboard, tensorflow-intel, tensorflow\n",
      "Successfully installed absl-py-1.4.0 astunparse-1.6.3 cachetools-5.3.0 flatbuffers-23.5.9 gast-0.4.0 google-auth-2.19.0 google-auth-oauthlib-1.0.0 google-pasta-0.2.0 grpcio-1.54.2 jax-0.4.10 keras-2.12.0 libclang-16.0.0 ml-dtypes-0.1.0 oauthlib-3.2.2 opt-einsum-3.3.0 protobuf-4.23.1 requests-oauthlib-1.3.1 rsa-4.9 tensorboard-2.12.3 tensorboard-data-server-0.7.0 tensorflow-2.12.0 tensorflow-estimator-2.12.0 tensorflow-intel-2.12.0 tensorflow-io-gcs-filesystem-0.31.0 termcolor-2.3.0\n",
      "Note: you may need to restart the kernel to use updated packages.\n"
     ]
    }
   ],
   "source": [
    "pip install tensorflow"
   ]
  },
  {
   "cell_type": "markdown",
   "metadata": {},
   "source": [
    "---\n",
    "\n",
    "## Prepare the data to be used on a neural network model"
   ]
  },
  {
   "cell_type": "markdown",
   "metadata": {},
   "source": [
    "### Step 1: Read the `applicants_data.csv` file into a Pandas DataFrame. Review the DataFrame, looking for categorical variables that will need to be encoded, as well as columns that could eventually define your features and target variables.  \n"
   ]
  },
  {
   "cell_type": "code",
   "execution_count": 96,
   "metadata": {},
   "outputs": [
    {
     "data": {
      "text/html": [
       "<div>\n",
       "<style scoped>\n",
       "    .dataframe tbody tr th:only-of-type {\n",
       "        vertical-align: middle;\n",
       "    }\n",
       "\n",
       "    .dataframe tbody tr th {\n",
       "        vertical-align: top;\n",
       "    }\n",
       "\n",
       "    .dataframe thead th {\n",
       "        text-align: right;\n",
       "    }\n",
       "</style>\n",
       "<table border=\"1\" class=\"dataframe\">\n",
       "  <thead>\n",
       "    <tr style=\"text-align: right;\">\n",
       "      <th></th>\n",
       "      <th>EIN</th>\n",
       "      <th>NAME</th>\n",
       "      <th>APPLICATION_TYPE</th>\n",
       "      <th>AFFILIATION</th>\n",
       "      <th>CLASSIFICATION</th>\n",
       "      <th>USE_CASE</th>\n",
       "      <th>ORGANIZATION</th>\n",
       "      <th>STATUS</th>\n",
       "      <th>INCOME_AMT</th>\n",
       "      <th>SPECIAL_CONSIDERATIONS</th>\n",
       "      <th>ASK_AMT</th>\n",
       "      <th>IS_SUCCESSFUL</th>\n",
       "    </tr>\n",
       "  </thead>\n",
       "  <tbody>\n",
       "    <tr>\n",
       "      <th>0</th>\n",
       "      <td>10520599</td>\n",
       "      <td>BLUE KNIGHTS MOTORCYCLE CLUB</td>\n",
       "      <td>T10</td>\n",
       "      <td>Independent</td>\n",
       "      <td>C1000</td>\n",
       "      <td>ProductDev</td>\n",
       "      <td>Association</td>\n",
       "      <td>1</td>\n",
       "      <td>0</td>\n",
       "      <td>N</td>\n",
       "      <td>5000</td>\n",
       "      <td>1</td>\n",
       "    </tr>\n",
       "    <tr>\n",
       "      <th>1</th>\n",
       "      <td>10531628</td>\n",
       "      <td>AMERICAN CHESAPEAKE CLUB CHARITABLE TR</td>\n",
       "      <td>T3</td>\n",
       "      <td>Independent</td>\n",
       "      <td>C2000</td>\n",
       "      <td>Preservation</td>\n",
       "      <td>Co-operative</td>\n",
       "      <td>1</td>\n",
       "      <td>1-9999</td>\n",
       "      <td>N</td>\n",
       "      <td>108590</td>\n",
       "      <td>1</td>\n",
       "    </tr>\n",
       "    <tr>\n",
       "      <th>2</th>\n",
       "      <td>10547893</td>\n",
       "      <td>ST CLOUD PROFESSIONAL FIREFIGHTERS</td>\n",
       "      <td>T5</td>\n",
       "      <td>CompanySponsored</td>\n",
       "      <td>C3000</td>\n",
       "      <td>ProductDev</td>\n",
       "      <td>Association</td>\n",
       "      <td>1</td>\n",
       "      <td>0</td>\n",
       "      <td>N</td>\n",
       "      <td>5000</td>\n",
       "      <td>0</td>\n",
       "    </tr>\n",
       "    <tr>\n",
       "      <th>3</th>\n",
       "      <td>10553066</td>\n",
       "      <td>SOUTHSIDE ATHLETIC ASSOCIATION</td>\n",
       "      <td>T3</td>\n",
       "      <td>CompanySponsored</td>\n",
       "      <td>C2000</td>\n",
       "      <td>Preservation</td>\n",
       "      <td>Trust</td>\n",
       "      <td>1</td>\n",
       "      <td>10000-24999</td>\n",
       "      <td>N</td>\n",
       "      <td>6692</td>\n",
       "      <td>1</td>\n",
       "    </tr>\n",
       "    <tr>\n",
       "      <th>4</th>\n",
       "      <td>10556103</td>\n",
       "      <td>GENETIC RESEARCH INSTITUTE OF THE DESERT</td>\n",
       "      <td>T3</td>\n",
       "      <td>Independent</td>\n",
       "      <td>C1000</td>\n",
       "      <td>Heathcare</td>\n",
       "      <td>Trust</td>\n",
       "      <td>1</td>\n",
       "      <td>100000-499999</td>\n",
       "      <td>N</td>\n",
       "      <td>142590</td>\n",
       "      <td>1</td>\n",
       "    </tr>\n",
       "  </tbody>\n",
       "</table>\n",
       "</div>"
      ],
      "text/plain": [
       "        EIN                                      NAME APPLICATION_TYPE  \\\n",
       "0  10520599              BLUE KNIGHTS MOTORCYCLE CLUB              T10   \n",
       "1  10531628    AMERICAN CHESAPEAKE CLUB CHARITABLE TR               T3   \n",
       "2  10547893        ST CLOUD PROFESSIONAL FIREFIGHTERS               T5   \n",
       "3  10553066            SOUTHSIDE ATHLETIC ASSOCIATION               T3   \n",
       "4  10556103  GENETIC RESEARCH INSTITUTE OF THE DESERT               T3   \n",
       "\n",
       "        AFFILIATION CLASSIFICATION      USE_CASE  ORGANIZATION  STATUS  \\\n",
       "0       Independent          C1000    ProductDev   Association       1   \n",
       "1       Independent          C2000  Preservation  Co-operative       1   \n",
       "2  CompanySponsored          C3000    ProductDev   Association       1   \n",
       "3  CompanySponsored          C2000  Preservation         Trust       1   \n",
       "4       Independent          C1000     Heathcare         Trust       1   \n",
       "\n",
       "      INCOME_AMT SPECIAL_CONSIDERATIONS  ASK_AMT  IS_SUCCESSFUL  \n",
       "0              0                      N     5000              1  \n",
       "1         1-9999                      N   108590              1  \n",
       "2              0                      N     5000              0  \n",
       "3    10000-24999                      N     6692              1  \n",
       "4  100000-499999                      N   142590              1  "
      ]
     },
     "execution_count": 96,
     "metadata": {},
     "output_type": "execute_result"
    }
   ],
   "source": [
    "# Read the applicants_data.csv file from the Resources folder into a Pandas DataFrame\n",
    "applicant_data_df = pd.read_csv(\n",
    "    Path(r'C:\\Users\\horac\\Downloads\\Starter_Code (6)\\Starter_Code\\Resources\\applicants_data.csv')\n",
    ")\n",
    "\n",
    "# Review the DataFrame\n",
    "# YOUR CODE HERE\n",
    "applicant_data_df.head()"
   ]
  },
  {
   "cell_type": "code",
   "execution_count": null,
   "metadata": {},
   "outputs": [],
   "source": [
    "# Review the data types associated with the columns\n",
    "# YOUR CODE HERE\n"
   ]
  },
  {
   "cell_type": "markdown",
   "metadata": {},
   "source": [
    "### Step 2: Drop the “EIN” (Employer Identification Number) and “NAME” columns from the DataFrame, because they are not relevant to the binary classification model."
   ]
  },
  {
   "cell_type": "code",
   "execution_count": 97,
   "metadata": {},
   "outputs": [],
   "source": [
    "applicant_data_df = applicant_data_df.drop(columns = ['EIN', 'NAME'])"
   ]
  },
  {
   "cell_type": "markdown",
   "metadata": {},
   "source": [
    "### Step 3: Encode the dataset’s categorical variables using `OneHotEncoder`, and then place the encoded variables into a new DataFrame."
   ]
  },
  {
   "cell_type": "code",
   "execution_count": 98,
   "metadata": {},
   "outputs": [
    {
     "data": {
      "text/html": [
       "<div>\n",
       "<style scoped>\n",
       "    .dataframe tbody tr th:only-of-type {\n",
       "        vertical-align: middle;\n",
       "    }\n",
       "\n",
       "    .dataframe tbody tr th {\n",
       "        vertical-align: top;\n",
       "    }\n",
       "\n",
       "    .dataframe thead th {\n",
       "        text-align: right;\n",
       "    }\n",
       "</style>\n",
       "<table border=\"1\" class=\"dataframe\">\n",
       "  <thead>\n",
       "    <tr style=\"text-align: right;\">\n",
       "      <th></th>\n",
       "      <th>STATUS</th>\n",
       "      <th>ASK_AMT</th>\n",
       "      <th>IS_SUCCESSFUL</th>\n",
       "      <th>APPLICATION_TYPE_T10</th>\n",
       "      <th>APPLICATION_TYPE_T12</th>\n",
       "      <th>APPLICATION_TYPE_T13</th>\n",
       "      <th>APPLICATION_TYPE_T14</th>\n",
       "      <th>APPLICATION_TYPE_T15</th>\n",
       "      <th>APPLICATION_TYPE_T17</th>\n",
       "      <th>APPLICATION_TYPE_T19</th>\n",
       "      <th>...</th>\n",
       "      <th>INCOME_AMT_1-9999</th>\n",
       "      <th>INCOME_AMT_10000-24999</th>\n",
       "      <th>INCOME_AMT_100000-499999</th>\n",
       "      <th>INCOME_AMT_10M-50M</th>\n",
       "      <th>INCOME_AMT_1M-5M</th>\n",
       "      <th>INCOME_AMT_25000-99999</th>\n",
       "      <th>INCOME_AMT_50M+</th>\n",
       "      <th>INCOME_AMT_5M-10M</th>\n",
       "      <th>SPECIAL_CONSIDERATIONS_N</th>\n",
       "      <th>SPECIAL_CONSIDERATIONS_Y</th>\n",
       "    </tr>\n",
       "  </thead>\n",
       "  <tbody>\n",
       "    <tr>\n",
       "      <th>0</th>\n",
       "      <td>1</td>\n",
       "      <td>5000</td>\n",
       "      <td>1</td>\n",
       "      <td>1.0</td>\n",
       "      <td>0.0</td>\n",
       "      <td>0.0</td>\n",
       "      <td>0.0</td>\n",
       "      <td>0.0</td>\n",
       "      <td>0.0</td>\n",
       "      <td>0.0</td>\n",
       "      <td>...</td>\n",
       "      <td>0.0</td>\n",
       "      <td>0.0</td>\n",
       "      <td>0.0</td>\n",
       "      <td>0.0</td>\n",
       "      <td>0.0</td>\n",
       "      <td>0.0</td>\n",
       "      <td>0.0</td>\n",
       "      <td>0.0</td>\n",
       "      <td>1.0</td>\n",
       "      <td>0.0</td>\n",
       "    </tr>\n",
       "    <tr>\n",
       "      <th>1</th>\n",
       "      <td>1</td>\n",
       "      <td>108590</td>\n",
       "      <td>1</td>\n",
       "      <td>0.0</td>\n",
       "      <td>0.0</td>\n",
       "      <td>0.0</td>\n",
       "      <td>0.0</td>\n",
       "      <td>0.0</td>\n",
       "      <td>0.0</td>\n",
       "      <td>0.0</td>\n",
       "      <td>...</td>\n",
       "      <td>1.0</td>\n",
       "      <td>0.0</td>\n",
       "      <td>0.0</td>\n",
       "      <td>0.0</td>\n",
       "      <td>0.0</td>\n",
       "      <td>0.0</td>\n",
       "      <td>0.0</td>\n",
       "      <td>0.0</td>\n",
       "      <td>1.0</td>\n",
       "      <td>0.0</td>\n",
       "    </tr>\n",
       "    <tr>\n",
       "      <th>2</th>\n",
       "      <td>1</td>\n",
       "      <td>5000</td>\n",
       "      <td>0</td>\n",
       "      <td>0.0</td>\n",
       "      <td>0.0</td>\n",
       "      <td>0.0</td>\n",
       "      <td>0.0</td>\n",
       "      <td>0.0</td>\n",
       "      <td>0.0</td>\n",
       "      <td>0.0</td>\n",
       "      <td>...</td>\n",
       "      <td>0.0</td>\n",
       "      <td>0.0</td>\n",
       "      <td>0.0</td>\n",
       "      <td>0.0</td>\n",
       "      <td>0.0</td>\n",
       "      <td>0.0</td>\n",
       "      <td>0.0</td>\n",
       "      <td>0.0</td>\n",
       "      <td>1.0</td>\n",
       "      <td>0.0</td>\n",
       "    </tr>\n",
       "    <tr>\n",
       "      <th>3</th>\n",
       "      <td>1</td>\n",
       "      <td>6692</td>\n",
       "      <td>1</td>\n",
       "      <td>0.0</td>\n",
       "      <td>0.0</td>\n",
       "      <td>0.0</td>\n",
       "      <td>0.0</td>\n",
       "      <td>0.0</td>\n",
       "      <td>0.0</td>\n",
       "      <td>0.0</td>\n",
       "      <td>...</td>\n",
       "      <td>0.0</td>\n",
       "      <td>1.0</td>\n",
       "      <td>0.0</td>\n",
       "      <td>0.0</td>\n",
       "      <td>0.0</td>\n",
       "      <td>0.0</td>\n",
       "      <td>0.0</td>\n",
       "      <td>0.0</td>\n",
       "      <td>1.0</td>\n",
       "      <td>0.0</td>\n",
       "    </tr>\n",
       "    <tr>\n",
       "      <th>4</th>\n",
       "      <td>1</td>\n",
       "      <td>142590</td>\n",
       "      <td>1</td>\n",
       "      <td>0.0</td>\n",
       "      <td>0.0</td>\n",
       "      <td>0.0</td>\n",
       "      <td>0.0</td>\n",
       "      <td>0.0</td>\n",
       "      <td>0.0</td>\n",
       "      <td>0.0</td>\n",
       "      <td>...</td>\n",
       "      <td>0.0</td>\n",
       "      <td>0.0</td>\n",
       "      <td>1.0</td>\n",
       "      <td>0.0</td>\n",
       "      <td>0.0</td>\n",
       "      <td>0.0</td>\n",
       "      <td>0.0</td>\n",
       "      <td>0.0</td>\n",
       "      <td>1.0</td>\n",
       "      <td>0.0</td>\n",
       "    </tr>\n",
       "  </tbody>\n",
       "</table>\n",
       "<p>5 rows × 117 columns</p>\n",
       "</div>"
      ],
      "text/plain": [
       "   STATUS  ASK_AMT  IS_SUCCESSFUL  APPLICATION_TYPE_T10  APPLICATION_TYPE_T12  \\\n",
       "0       1     5000              1                   1.0                   0.0   \n",
       "1       1   108590              1                   0.0                   0.0   \n",
       "2       1     5000              0                   0.0                   0.0   \n",
       "3       1     6692              1                   0.0                   0.0   \n",
       "4       1   142590              1                   0.0                   0.0   \n",
       "\n",
       "   APPLICATION_TYPE_T13  APPLICATION_TYPE_T14  APPLICATION_TYPE_T15  \\\n",
       "0                   0.0                   0.0                   0.0   \n",
       "1                   0.0                   0.0                   0.0   \n",
       "2                   0.0                   0.0                   0.0   \n",
       "3                   0.0                   0.0                   0.0   \n",
       "4                   0.0                   0.0                   0.0   \n",
       "\n",
       "   APPLICATION_TYPE_T17  APPLICATION_TYPE_T19  ...  INCOME_AMT_1-9999  \\\n",
       "0                   0.0                   0.0  ...                0.0   \n",
       "1                   0.0                   0.0  ...                1.0   \n",
       "2                   0.0                   0.0  ...                0.0   \n",
       "3                   0.0                   0.0  ...                0.0   \n",
       "4                   0.0                   0.0  ...                0.0   \n",
       "\n",
       "   INCOME_AMT_10000-24999  INCOME_AMT_100000-499999  INCOME_AMT_10M-50M  \\\n",
       "0                     0.0                       0.0                 0.0   \n",
       "1                     0.0                       0.0                 0.0   \n",
       "2                     0.0                       0.0                 0.0   \n",
       "3                     1.0                       0.0                 0.0   \n",
       "4                     0.0                       1.0                 0.0   \n",
       "\n",
       "   INCOME_AMT_1M-5M  INCOME_AMT_25000-99999  INCOME_AMT_50M+  \\\n",
       "0               0.0                     0.0              0.0   \n",
       "1               0.0                     0.0              0.0   \n",
       "2               0.0                     0.0              0.0   \n",
       "3               0.0                     0.0              0.0   \n",
       "4               0.0                     0.0              0.0   \n",
       "\n",
       "   INCOME_AMT_5M-10M  SPECIAL_CONSIDERATIONS_N  SPECIAL_CONSIDERATIONS_Y  \n",
       "0                0.0                       1.0                       0.0  \n",
       "1                0.0                       1.0                       0.0  \n",
       "2                0.0                       1.0                       0.0  \n",
       "3                0.0                       1.0                       0.0  \n",
       "4                0.0                       1.0                       0.0  \n",
       "\n",
       "[5 rows x 117 columns]"
      ]
     },
     "execution_count": 98,
     "metadata": {},
     "output_type": "execute_result"
    }
   ],
   "source": [
    "# Create a list of categorical variables \n",
    "applicant_data_df = pd.get_dummies(applicant_data_df,dtype=float)\n",
    "applicant_data_df.head()"
   ]
  },
  {
   "cell_type": "code",
   "execution_count": 99,
   "metadata": {
    "collapsed": true
   },
   "outputs": [
    {
     "ename": "NameError",
     "evalue": "name 'categorical_variables' is not defined",
     "output_type": "error",
     "traceback": [
      "\u001b[1;31m---------------------------------------------------------------------------\u001b[0m",
      "\u001b[1;31mNameError\u001b[0m                                 Traceback (most recent call last)",
      "Cell \u001b[1;32mIn[99], line 4\u001b[0m\n\u001b[0;32m      2\u001b[0m enc \u001b[38;5;241m=\u001b[39m OneHotEncoder(sparse\u001b[38;5;241m=\u001b[39m\u001b[38;5;28;01mFalse\u001b[39;00m)\n\u001b[0;32m      3\u001b[0m \u001b[38;5;66;03m# Encode the categorcal variables using OneHotEncoder\u001b[39;00m\n\u001b[1;32m----> 4\u001b[0m encoded_data \u001b[38;5;241m=\u001b[39m enc\u001b[38;5;241m.\u001b[39mfit_transform(applicant_data_df[\u001b[43mcategorical_variables\u001b[49m])\n\u001b[0;32m      5\u001b[0m \u001b[38;5;66;03m# Create a DataFrame with the encoded variables\u001b[39;00m\n\u001b[0;32m      6\u001b[0m encoded_df \u001b[38;5;241m=\u001b[39m pd\u001b[38;5;241m.\u001b[39mDataFrame(\n\u001b[0;32m      7\u001b[0m     encoded_data\n\u001b[0;32m      8\u001b[0m     , columns\u001b[38;5;241m=\u001b[39menc\u001b[38;5;241m.\u001b[39mget_feature_names(categorical_variables)\n\u001b[0;32m      9\u001b[0m )\n",
      "\u001b[1;31mNameError\u001b[0m: name 'categorical_variables' is not defined"
     ]
    }
   ],
   "source": [
    "# Create a OneHotEncoder instance\n",
    "enc = OneHotEncoder(sparse=False)\n",
    "# Encode the categorcal variables using OneHotEncoder\n",
    "encoded_data = enc.fit_transform(applicant_data_df[categorical_variables])\n",
    "# Create a DataFrame with the encoded variables\n",
    "encoded_df = pd.DataFrame(\n",
    "    encoded_data\n",
    "    , columns=enc.get_feature_names(categorical_variables)\n",
    ")\n",
    "encoded_df.reset_index()\n",
    "# Review the DataFrame\n",
    "encoded_df.head()\n"
   ]
  },
  {
   "cell_type": "markdown",
   "metadata": {},
   "source": [
    "### Step 4: Add the original DataFrame’s numerical variables to the DataFrame containing the encoded variables.\n",
    "\n",
    "> **Note** To complete this step, you will employ the Pandas `concat()` function that was introduced earlier in this course. "
   ]
  },
  {
   "cell_type": "markdown",
   "metadata": {},
   "source": [
    "### Step 5: Using the preprocessed data, create the features (`X`) and target (`y`) datasets. The target dataset should be defined by the preprocessed DataFrame column “IS_SUCCESSFUL”. The remaining columns should define the features dataset. \n",
    "\n"
   ]
  },
  {
   "cell_type": "code",
   "execution_count": 101,
   "metadata": {},
   "outputs": [
    {
     "data": {
      "text/plain": [
       "array([1, 1, 0, ..., 0, 1, 0], dtype=int64)"
      ]
     },
     "execution_count": 101,
     "metadata": {},
     "output_type": "execute_result"
    }
   ],
   "source": [
    "y = applicant_data_df['IS_SUCCESSFUL'].values\n",
    "y\n"
   ]
  },
  {
   "cell_type": "code",
   "execution_count": 102,
   "metadata": {},
   "outputs": [
    {
     "data": {
      "text/plain": [
       "array([[1.0000000e+00, 5.0000000e+03, 1.0000000e+00, ..., 0.0000000e+00,\n",
       "        1.0000000e+00, 0.0000000e+00],\n",
       "       [1.0000000e+00, 1.0859000e+05, 0.0000000e+00, ..., 0.0000000e+00,\n",
       "        1.0000000e+00, 0.0000000e+00],\n",
       "       [1.0000000e+00, 5.0000000e+03, 0.0000000e+00, ..., 0.0000000e+00,\n",
       "        1.0000000e+00, 0.0000000e+00],\n",
       "       ...,\n",
       "       [1.0000000e+00, 5.0000000e+03, 0.0000000e+00, ..., 0.0000000e+00,\n",
       "        1.0000000e+00, 0.0000000e+00],\n",
       "       [1.0000000e+00, 5.0000000e+03, 0.0000000e+00, ..., 0.0000000e+00,\n",
       "        1.0000000e+00, 0.0000000e+00],\n",
       "       [1.0000000e+00, 3.6500179e+07, 0.0000000e+00, ..., 0.0000000e+00,\n",
       "        1.0000000e+00, 0.0000000e+00]])"
      ]
     },
     "execution_count": 102,
     "metadata": {},
     "output_type": "execute_result"
    }
   ],
   "source": [
    "X = applicant_data_df.drop('IS_SUCCESSFUL', axis=1).values\n",
    "X\n"
   ]
  },
  {
   "cell_type": "markdown",
   "metadata": {},
   "source": [
    "### Step 6: Split the features and target sets into training and testing datasets.\n"
   ]
  },
  {
   "cell_type": "code",
   "execution_count": 103,
   "metadata": {},
   "outputs": [],
   "source": [
    "X_train, X_test, y_train, y_test = train_test_split(X,y,random_state = 42)\n"
   ]
  },
  {
   "cell_type": "markdown",
   "metadata": {},
   "source": [
    "### Step 7: Use scikit-learn's `StandardScaler` to scale the features data."
   ]
  },
  {
   "cell_type": "code",
   "execution_count": 104,
   "metadata": {},
   "outputs": [],
   "source": [
    "# Create a StandardScaler instances\n",
    "scaler = StandardScaler()\n",
    "\n",
    "# Fit the StandardScaler\n",
    "X_scaler = scaler.fit(X_train)\n",
    "\n",
    "# Scale the data\n",
    "X_train_scaled = X_scaler.transform(X_train)\n",
    "X_test_scaled = X_scaler.transform(X_test)"
   ]
  },
  {
   "cell_type": "markdown",
   "metadata": {},
   "source": [
    "---\n",
    "\n",
    "## Compile and Evaluate a Binary Classification Model Using a Neural Network"
   ]
  },
  {
   "cell_type": "markdown",
   "metadata": {},
   "source": [
    "### Step 1: Create a deep neural network by assigning the number of input features, the number of layers, and the number of neurons on each layer using Tensorflow’s Keras.\n",
    "\n",
    "> **Hint** You can start with a two-layer deep neural network model that uses the `relu` activation function for both layers.\n"
   ]
  },
  {
   "cell_type": "code",
   "execution_count": 47,
   "metadata": {},
   "outputs": [
    {
     "data": {
      "text/plain": [
       "116"
      ]
     },
     "execution_count": 47,
     "metadata": {},
     "output_type": "execute_result"
    }
   ],
   "source": [
    "# Define the the number of inputs (features) to the model\n",
    "number_input_features  = len( X_train_scaled[0])\n",
    "\n",
    "# Review the number of features\n",
    "number_input_features\n"
   ]
  },
  {
   "cell_type": "code",
   "execution_count": 48,
   "metadata": {},
   "outputs": [
    {
     "data": {
      "text/plain": [
       "58"
      ]
     },
     "execution_count": 48,
     "metadata": {},
     "output_type": "execute_result"
    }
   ],
   "source": [
    "# Define the number of neurons in the output layer\n",
    "number_output_neurons = 1\n",
    "# Define the number of hidden nodes for the first hidden layer\n",
    "hidden_nodes_layer1 =   (number_input_features + 1) // 2 \n",
    "\n",
    "# Review the number hidden nodes in the first layer\n",
    "hidden_nodes_layer1\n",
    "# Define the number of hidden nodes for the first hidden layer\n",
    "hidden_nodes_layer1 =   (number_input_features + 1) // 2 \n",
    "\n",
    "# Review the number hidden nodes in the first layer\n",
    "hidden_nodes_layer1"
   ]
  },
  {
   "cell_type": "code",
   "execution_count": 49,
   "metadata": {},
   "outputs": [],
   "source": [
    "# Create the Sequential model instance\n",
    "nn = tf.keras.models.Sequential()\n"
   ]
  },
  {
   "cell_type": "code",
   "execution_count": 50,
   "metadata": {},
   "outputs": [],
   "source": [
    "# Add the first hidden layer\n",
    "nn.add(tf.keras.layers.Dense(units=hidden_nodes_layer1, input_dim=number_input_features, activation='relu'))\n"
   ]
  },
  {
   "cell_type": "code",
   "execution_count": 51,
   "metadata": {},
   "outputs": [],
   "source": [
    "# Add the second hidden layer\n",
    "nn.add(tf.keras.layers.Dense(units=hidden_nodes_layer2, activation='relu'))\n"
   ]
  },
  {
   "cell_type": "code",
   "execution_count": 52,
   "metadata": {},
   "outputs": [],
   "source": [
    "# Add the output layer to the model specifying the number of output neurons and activation function\n",
    "nn.add(tf.keras.layers.Dense(units=1, activation='sigmoid'))\n"
   ]
  },
  {
   "cell_type": "code",
   "execution_count": 53,
   "metadata": {},
   "outputs": [
    {
     "name": "stdout",
     "output_type": "stream",
     "text": [
      "Model: \"sequential_4\"\n",
      "_________________________________________________________________\n",
      " Layer (type)                Output Shape              Param #   \n",
      "=================================================================\n",
      " dense_6 (Dense)             (None, 58)                6786      \n",
      "                                                                 \n",
      " dense_7 (Dense)             (None, 14)                826       \n",
      "                                                                 \n",
      " dense_8 (Dense)             (None, 1)                 15        \n",
      "                                                                 \n",
      "=================================================================\n",
      "Total params: 7,627\n",
      "Trainable params: 7,627\n",
      "Non-trainable params: 0\n",
      "_________________________________________________________________\n"
     ]
    }
   ],
   "source": [
    "# Display the Sequential model summary\n",
    "nn.summary()"
   ]
  },
  {
   "cell_type": "markdown",
   "metadata": {},
   "source": [
    "### Step 2: Compile and fit the model using the `binary_crossentropy` loss function, the `adam` optimizer, and the `accuracy` evaluation metric.\n"
   ]
  },
  {
   "cell_type": "code",
   "execution_count": 54,
   "metadata": {},
   "outputs": [],
   "source": [
    "# Compile the Sequential model\n",
    "nn.compile(loss = 'binary_crossentropy', optimizer = 'adam', metrics=['accuracy'])"
   ]
  },
  {
   "cell_type": "code",
   "execution_count": 55,
   "metadata": {},
   "outputs": [
    {
     "name": "stdout",
     "output_type": "stream",
     "text": [
      "Epoch 1/50\n",
      "684/684 [==============================] - 1s 1ms/step - loss: 0.5823 - accuracy: 0.7151 - val_loss: 0.5642 - val_accuracy: 0.7352\n",
      "Epoch 2/50\n",
      "684/684 [==============================] - 1s 1ms/step - loss: 0.5565 - accuracy: 0.7254 - val_loss: 0.5522 - val_accuracy: 0.7362\n",
      "Epoch 3/50\n",
      "684/684 [==============================] - 1s 1ms/step - loss: 0.5525 - accuracy: 0.7292 - val_loss: 0.5528 - val_accuracy: 0.7378\n",
      "Epoch 4/50\n",
      "684/684 [==============================] - 1s 1ms/step - loss: 0.5499 - accuracy: 0.7309 - val_loss: 0.5465 - val_accuracy: 0.7385\n",
      "Epoch 5/50\n",
      "684/684 [==============================] - 1s 1ms/step - loss: 0.5485 - accuracy: 0.7319 - val_loss: 0.5488 - val_accuracy: 0.7362\n",
      "Epoch 6/50\n",
      "684/684 [==============================] - 1s 1ms/step - loss: 0.5472 - accuracy: 0.7312 - val_loss: 0.5505 - val_accuracy: 0.7370\n",
      "Epoch 7/50\n",
      "684/684 [==============================] - 1s 1ms/step - loss: 0.5468 - accuracy: 0.7324 - val_loss: 0.5493 - val_accuracy: 0.7341\n",
      "Epoch 8/50\n",
      "684/684 [==============================] - 1s 1ms/step - loss: 0.5455 - accuracy: 0.7318 - val_loss: 0.5490 - val_accuracy: 0.7375\n",
      "Epoch 9/50\n",
      "684/684 [==============================] - 1s 1ms/step - loss: 0.5445 - accuracy: 0.7324 - val_loss: 0.5483 - val_accuracy: 0.7344\n",
      "Epoch 10/50\n",
      "684/684 [==============================] - 1s 1ms/step - loss: 0.5442 - accuracy: 0.7323 - val_loss: 0.5464 - val_accuracy: 0.7362\n",
      "Epoch 11/50\n",
      "684/684 [==============================] - 1s 1ms/step - loss: 0.5437 - accuracy: 0.7336 - val_loss: 0.5508 - val_accuracy: 0.7367\n",
      "Epoch 12/50\n",
      "684/684 [==============================] - 1s 1ms/step - loss: 0.5430 - accuracy: 0.7325 - val_loss: 0.5500 - val_accuracy: 0.7359\n",
      "Epoch 13/50\n",
      "684/684 [==============================] - 1s 1ms/step - loss: 0.5426 - accuracy: 0.7340 - val_loss: 0.5483 - val_accuracy: 0.7344\n",
      "Epoch 14/50\n",
      "684/684 [==============================] - 1s 1ms/step - loss: 0.5420 - accuracy: 0.7324 - val_loss: 0.5490 - val_accuracy: 0.7344\n",
      "Epoch 15/50\n",
      "684/684 [==============================] - 1s 1ms/step - loss: 0.5416 - accuracy: 0.7352 - val_loss: 0.5517 - val_accuracy: 0.7266\n",
      "Epoch 16/50\n",
      "684/684 [==============================] - 1s 1ms/step - loss: 0.5411 - accuracy: 0.7346 - val_loss: 0.5499 - val_accuracy: 0.7359\n",
      "Epoch 17/50\n",
      "684/684 [==============================] - 1s 1ms/step - loss: 0.5412 - accuracy: 0.7356 - val_loss: 0.5509 - val_accuracy: 0.7336\n",
      "Epoch 18/50\n",
      "684/684 [==============================] - 1s 1ms/step - loss: 0.5405 - accuracy: 0.7341 - val_loss: 0.5520 - val_accuracy: 0.7349\n",
      "Epoch 19/50\n",
      "684/684 [==============================] - 1s 1ms/step - loss: 0.5400 - accuracy: 0.7354 - val_loss: 0.5498 - val_accuracy: 0.7357\n",
      "Epoch 20/50\n",
      "684/684 [==============================] - 1s 1ms/step - loss: 0.5398 - accuracy: 0.7350 - val_loss: 0.5527 - val_accuracy: 0.7339\n",
      "Epoch 21/50\n",
      "684/684 [==============================] - 1s 1ms/step - loss: 0.5394 - accuracy: 0.7362 - val_loss: 0.5536 - val_accuracy: 0.7323\n",
      "Epoch 22/50\n",
      "684/684 [==============================] - 1s 1ms/step - loss: 0.5399 - accuracy: 0.7350 - val_loss: 0.5510 - val_accuracy: 0.7365\n",
      "Epoch 23/50\n",
      "684/684 [==============================] - 1s 1ms/step - loss: 0.5388 - accuracy: 0.7359 - val_loss: 0.5500 - val_accuracy: 0.7365\n",
      "Epoch 24/50\n",
      "684/684 [==============================] - 1s 1ms/step - loss: 0.5394 - accuracy: 0.7365 - val_loss: 0.5525 - val_accuracy: 0.7331\n",
      "Epoch 25/50\n",
      "684/684 [==============================] - 1s 1ms/step - loss: 0.5387 - accuracy: 0.7370 - val_loss: 0.5555 - val_accuracy: 0.7334\n",
      "Epoch 26/50\n",
      "684/684 [==============================] - 1s 1ms/step - loss: 0.5386 - accuracy: 0.7362 - val_loss: 0.5564 - val_accuracy: 0.7362\n",
      "Epoch 27/50\n",
      "684/684 [==============================] - 1s 1ms/step - loss: 0.5381 - accuracy: 0.7370 - val_loss: 0.5561 - val_accuracy: 0.7359\n",
      "Epoch 28/50\n",
      "684/684 [==============================] - 1s 1ms/step - loss: 0.5383 - accuracy: 0.7373 - val_loss: 0.5523 - val_accuracy: 0.7383\n",
      "Epoch 29/50\n",
      "684/684 [==============================] - 1s 1ms/step - loss: 0.5375 - accuracy: 0.7376 - val_loss: 0.5492 - val_accuracy: 0.7388\n",
      "Epoch 30/50\n",
      "684/684 [==============================] - 1s 1ms/step - loss: 0.5373 - accuracy: 0.7386 - val_loss: 0.5560 - val_accuracy: 0.7370\n",
      "Epoch 31/50\n",
      "684/684 [==============================] - 1s 1ms/step - loss: 0.5376 - accuracy: 0.7365 - val_loss: 0.5566 - val_accuracy: 0.7365\n",
      "Epoch 32/50\n",
      "684/684 [==============================] - 1s 1ms/step - loss: 0.5370 - accuracy: 0.7389 - val_loss: 0.5550 - val_accuracy: 0.7385\n",
      "Epoch 33/50\n",
      "684/684 [==============================] - 1s 1ms/step - loss: 0.5366 - accuracy: 0.7386 - val_loss: 0.5586 - val_accuracy: 0.7370\n",
      "Epoch 34/50\n",
      "684/684 [==============================] - 1s 1ms/step - loss: 0.5369 - accuracy: 0.7383 - val_loss: 0.5567 - val_accuracy: 0.7388\n",
      "Epoch 35/50\n",
      "684/684 [==============================] - 1s 1ms/step - loss: 0.5365 - accuracy: 0.7389 - val_loss: 0.5564 - val_accuracy: 0.7357\n",
      "Epoch 36/50\n",
      "684/684 [==============================] - 1s 1ms/step - loss: 0.5369 - accuracy: 0.7378 - val_loss: 0.5519 - val_accuracy: 0.7378\n",
      "Epoch 37/50\n",
      "684/684 [==============================] - 1s 1ms/step - loss: 0.5359 - accuracy: 0.7394 - val_loss: 0.5602 - val_accuracy: 0.7328\n",
      "Epoch 38/50\n",
      "684/684 [==============================] - 1s 1ms/step - loss: 0.5360 - accuracy: 0.7373 - val_loss: 0.5550 - val_accuracy: 0.7367\n",
      "Epoch 39/50\n",
      "684/684 [==============================] - 1s 1ms/step - loss: 0.5360 - accuracy: 0.7392 - val_loss: 0.5587 - val_accuracy: 0.7391\n",
      "Epoch 40/50\n",
      "684/684 [==============================] - 1s 1ms/step - loss: 0.5358 - accuracy: 0.7378 - val_loss: 0.5573 - val_accuracy: 0.7388\n",
      "Epoch 41/50\n",
      "684/684 [==============================] - 1s 1ms/step - loss: 0.5353 - accuracy: 0.7398 - val_loss: 0.5612 - val_accuracy: 0.7346\n",
      "Epoch 42/50\n",
      "684/684 [==============================] - 1s 1ms/step - loss: 0.5356 - accuracy: 0.7393 - val_loss: 0.5571 - val_accuracy: 0.7378\n",
      "Epoch 43/50\n",
      "684/684 [==============================] - 1s 1ms/step - loss: 0.5352 - accuracy: 0.7391 - val_loss: 0.5571 - val_accuracy: 0.7388\n",
      "Epoch 44/50\n",
      "684/684 [==============================] - 1s 1ms/step - loss: 0.5346 - accuracy: 0.7392 - val_loss: 0.5581 - val_accuracy: 0.7375\n",
      "Epoch 45/50\n",
      "684/684 [==============================] - 1s 1ms/step - loss: 0.5348 - accuracy: 0.7397 - val_loss: 0.5573 - val_accuracy: 0.7383\n",
      "Epoch 46/50\n",
      "684/684 [==============================] - 1s 1ms/step - loss: 0.5348 - accuracy: 0.7386 - val_loss: 0.5592 - val_accuracy: 0.7372\n",
      "Epoch 47/50\n",
      "684/684 [==============================] - 1s 1ms/step - loss: 0.5342 - accuracy: 0.7398 - val_loss: 0.5614 - val_accuracy: 0.7385\n",
      "Epoch 48/50\n",
      "684/684 [==============================] - 1s 1ms/step - loss: 0.5343 - accuracy: 0.7384 - val_loss: 0.5636 - val_accuracy: 0.7370\n",
      "Epoch 49/50\n",
      "684/684 [==============================] - 1s 1ms/step - loss: 0.5338 - accuracy: 0.7388 - val_loss: 0.5601 - val_accuracy: 0.7380\n",
      "Epoch 50/50\n",
      "684/684 [==============================] - 1s 1ms/step - loss: 0.5337 - accuracy: 0.7398 - val_loss: 0.5633 - val_accuracy: 0.7393\n"
     ]
    }
   ],
   "source": [
    "# Fit the model using 50 epochs and the training data\n",
    "fit_model = nn.fit(X_train_scaled,y_train,validation_split=0.15, epochs=50)\n",
    "\n"
   ]
  },
  {
   "cell_type": "markdown",
   "metadata": {},
   "source": [
    "### Step 3: Evaluate the model using the test data to determine the model’s loss and accuracy.\n"
   ]
  },
  {
   "cell_type": "code",
   "execution_count": 56,
   "metadata": {},
   "outputs": [
    {
     "name": "stdout",
     "output_type": "stream",
     "text": [
      "268/268 - 0s - loss: 0.5567 - accuracy: 0.7306 - 233ms/epoch - 871us/step\n",
      "Loss: 0.5566797256469727, Accuracy: 0.7306122183799744\n"
     ]
    }
   ],
   "source": [
    "model_loss, model_accuracy = nn.evaluate(X_test_scaled,y_test,verbose=2)\n",
    "print(f\"Loss: {model_loss}, Accuracy: {model_accuracy}\")\n",
    "\n"
   ]
  },
  {
   "cell_type": "markdown",
   "metadata": {},
   "source": [
    "### Step 4: Save and export your model to an HDF5 file, and name the file `AlphabetSoup.h5`. \n"
   ]
  },
  {
   "cell_type": "code",
   "execution_count": 36,
   "metadata": {
    "collapsed": true
   },
   "outputs": [
    {
     "ename": "ModuleNotFoundError",
     "evalue": "No module named 'google.colab'",
     "output_type": "error",
     "traceback": [
      "\u001b[1;31m---------------------------------------------------------------------------\u001b[0m",
      "\u001b[1;31mModuleNotFoundError\u001b[0m                       Traceback (most recent call last)",
      "Cell \u001b[1;32mIn[36], line 3\u001b[0m\n\u001b[0;32m      1\u001b[0m \u001b[38;5;66;03m# Export model to HDF5 File\u001b[39;00m\n\u001b[1;32m----> 3\u001b[0m \u001b[38;5;28;01mfrom\u001b[39;00m \u001b[38;5;21;01mgoogle\u001b[39;00m\u001b[38;5;21;01m.\u001b[39;00m\u001b[38;5;21;01mcolab\u001b[39;00m \u001b[38;5;28;01mimport\u001b[39;00m files\n\u001b[0;32m      5\u001b[0m nn\u001b[38;5;241m.\u001b[39msave(\u001b[38;5;124m'\u001b[39m\u001b[38;5;124m/content/Model_1.h5\u001b[39m\u001b[38;5;124m'\u001b[39m)\n\u001b[0;32m      6\u001b[0m files\u001b[38;5;241m.\u001b[39mdownload(\u001b[38;5;124m'\u001b[39m\u001b[38;5;124m/content/Model_1.h5\u001b[39m\u001b[38;5;124m'\u001b[39m)\n",
      "\u001b[1;31mModuleNotFoundError\u001b[0m: No module named 'google.colab'"
     ]
    }
   ],
   "source": [
    "# Export model to HDF5 File\n",
    "\n",
    "\n",
    "\n",
    "nn.save('/content/Model_1.h5')\n",
    "files.download('/content/Model_1.h5')"
   ]
  },
  {
   "cell_type": "markdown",
   "metadata": {},
   "source": [
    "---\n",
    "\n",
    "## Optimize the neural network model\n"
   ]
  },
  {
   "cell_type": "markdown",
   "metadata": {},
   "source": [
    "### Step 1: Define at least three new deep neural network models (resulting in the original plus 3 optimization attempts). With each, try to improve on your first model’s predictive accuracy.\n",
    "\n",
    "> **Rewind** Recall that perfect accuracy has a value of 1, so accuracy improves as its value moves closer to 1. To optimize your model for a predictive accuracy as close to 1 as possible, you can use any or all of the following techniques:\n",
    ">\n",
    "> * Adjust the input data by dropping different features columns to ensure that no variables or outliers confuse the model.\n",
    ">\n",
    "> * Add more neurons (nodes) to a hidden layer.\n",
    ">\n",
    "> * Add more hidden layers.\n",
    ">\n",
    "> * Use different activation functions for the hidden layers.\n",
    ">\n",
    "> * Add to or reduce the number of epochs in the training regimen.\n"
   ]
  },
  {
   "cell_type": "code",
   "execution_count": 40,
   "metadata": {},
   "outputs": [],
   "source": [
    "import numpy"
   ]
  },
  {
   "cell_type": "markdown",
   "metadata": {},
   "source": [
    "### Alternative Model 1"
   ]
  },
  {
   "cell_type": "code",
   "execution_count": 115,
   "metadata": {},
   "outputs": [],
   "source": [
    "\n",
    "# Review the number of features\n",
    "number_input_features=116"
   ]
  },
  {
   "cell_type": "code",
   "execution_count": 116,
   "metadata": {},
   "outputs": [],
   "source": [
    "# Define the number of neurons in the output layer\n",
    "number_output_neurons_A1 = 1"
   ]
  },
  {
   "cell_type": "code",
   "execution_count": 117,
   "metadata": {},
   "outputs": [
    {
     "data": {
      "text/plain": [
       "116"
      ]
     },
     "execution_count": 117,
     "metadata": {},
     "output_type": "execute_result"
    }
   ],
   "source": [
    "# Define the number of hidden nodes for the first hidden layer\n",
    "hidden_nodes_layer1_A1 = 58 * 2\n",
    "\n",
    "# Review the number of hidden nodes in the first layer\n",
    "hidden_nodes_layer1_A1"
   ]
  },
  {
   "cell_type": "code",
   "execution_count": 118,
   "metadata": {},
   "outputs": [
    {
     "data": {
      "text/plain": [
       "174"
      ]
     },
     "execution_count": 118,
     "metadata": {},
     "output_type": "execute_result"
    }
   ],
   "source": [
    "# Define the number of hidden nodes for the second hidden layer\n",
    "hidden_nodes_layer2_A1 = 58 * 3\n",
    "\n",
    "# Review the number of hidden nodes in the second layer\n",
    "hidden_nodes_layer2_A1"
   ]
  },
  {
   "cell_type": "code",
   "execution_count": 119,
   "metadata": {},
   "outputs": [
    {
     "data": {
      "text/plain": [
       "232"
      ]
     },
     "execution_count": 119,
     "metadata": {},
     "output_type": "execute_result"
    }
   ],
   "source": [
    "# Define the number of hidden nodes for the third hidden layer\n",
    "hidden_nodes_layer3_A1 = 58 * 4\n",
    "\n",
    "# Review the number of hidden nodes in the second layer\n",
    "hidden_nodes_layer3_A1"
   ]
  },
  {
   "cell_type": "code",
   "execution_count": 123,
   "metadata": {},
   "outputs": [],
   "source": [
    "# Create the Sequential model instance\n",
    "nnn_A1 = Sequential()"
   ]
  },
  {
   "cell_type": "code",
   "execution_count": 124,
   "metadata": {},
   "outputs": [
    {
     "data": {
      "text/plain": [
       "<keras.engine.sequential.Sequential at 0x1eb59c177f0>"
      ]
     },
     "execution_count": 124,
     "metadata": {},
     "output_type": "execute_result"
    }
   ],
   "source": [
    "nn_A1"
   ]
  },
  {
   "cell_type": "code",
   "execution_count": 125,
   "metadata": {
    "scrolled": true
   },
   "outputs": [
    {
     "name": "stdout",
     "output_type": "stream",
     "text": [
      "Model: \"sequential_14\"\n",
      "_________________________________________________________________\n",
      " Layer (type)                Output Shape              Param #   \n",
      "=================================================================\n",
      " dense_30 (Dense)            (None, 116)               13572     \n",
      "                                                                 \n",
      " dense_31 (Dense)            (None, 174)               20358     \n",
      "                                                                 \n",
      " dense_32 (Dense)            (None, 232)               40600     \n",
      "                                                                 \n",
      " dense_33 (Dense)            (None, 1)                 233       \n",
      "                                                                 \n",
      "=================================================================\n",
      "Total params: 74,763\n",
      "Trainable params: 74,763\n",
      "Non-trainable params: 0\n",
      "_________________________________________________________________\n"
     ]
    }
   ],
   "source": [
    "# First hidden layer\n",
    "nnn_A1.add(Dense(input_dim=number_input_features, units=hidden_nodes_layer1_A1, activation=\"sigmoid\"))\n",
    "# second hidden layer\n",
    "nnn_A1.add(Dense(input_dim=number_input_features, units=hidden_nodes_layer2_A1, activation=\"sigmoid\"))\n",
    "# third hidden layer\n",
    "nnn_A1.add(Dense(input_dim=number_input_features, units=hidden_nodes_layer3_A1, activation=\"sigmoid\"))\n",
    "# Output layer\n",
    "nnn_A1.add(Dense(units=number_output_neurons_A1, activation=\"sigmoid\"))\n",
    "# Check the structure of the model\n",
    "nnn_A1.summary()"
   ]
  },
  {
   "cell_type": "code",
   "execution_count": 126,
   "metadata": {},
   "outputs": [],
   "source": [
    "\n",
    "nnn_A1.compile(loss=\"binary_crossentropy\", optimizer=\"adam\", metrics=[\"accuracy\"])"
   ]
  },
  {
   "cell_type": "code",
   "execution_count": 127,
   "metadata": {
    "scrolled": true
   },
   "outputs": [
    {
     "name": "stdout",
     "output_type": "stream",
     "text": [
      "Epoch 1/50\n",
      "804/804 [==============================] - 2s 1ms/step - loss: 0.5941 - accuracy: 0.6981\n",
      "Epoch 2/50\n",
      "804/804 [==============================] - 1s 2ms/step - loss: 0.5728 - accuracy: 0.7231\n",
      "Epoch 3/50\n",
      "804/804 [==============================] - 1s 1ms/step - loss: 0.5633 - accuracy: 0.7254\n",
      "Epoch 4/50\n",
      "804/804 [==============================] - 1s 2ms/step - loss: 0.5582 - accuracy: 0.7261\n",
      "Epoch 5/50\n",
      "804/804 [==============================] - 1s 2ms/step - loss: 0.5561 - accuracy: 0.7268\n",
      "Epoch 6/50\n",
      "804/804 [==============================] - 1s 1ms/step - loss: 0.5538 - accuracy: 0.7266\n",
      "Epoch 7/50\n",
      "804/804 [==============================] - 1s 1ms/step - loss: 0.5520 - accuracy: 0.7274\n",
      "Epoch 8/50\n",
      "804/804 [==============================] - 1s 1ms/step - loss: 0.5517 - accuracy: 0.7294\n",
      "Epoch 9/50\n",
      "804/804 [==============================] - 1s 1ms/step - loss: 0.5508 - accuracy: 0.7302\n",
      "Epoch 10/50\n",
      "804/804 [==============================] - 1s 1ms/step - loss: 0.5494 - accuracy: 0.7307\n",
      "Epoch 11/50\n",
      "804/804 [==============================] - 1s 1ms/step - loss: 0.5491 - accuracy: 0.7308\n",
      "Epoch 12/50\n",
      "804/804 [==============================] - 1s 1ms/step - loss: 0.5478 - accuracy: 0.7316\n",
      "Epoch 13/50\n",
      "804/804 [==============================] - 1s 2ms/step - loss: 0.5485 - accuracy: 0.7309\n",
      "Epoch 14/50\n",
      "804/804 [==============================] - 1s 2ms/step - loss: 0.5464 - accuracy: 0.7314\n",
      "Epoch 15/50\n",
      "804/804 [==============================] - 1s 2ms/step - loss: 0.5460 - accuracy: 0.7332\n",
      "Epoch 16/50\n",
      "804/804 [==============================] - 1s 1ms/step - loss: 0.5457 - accuracy: 0.7320\n",
      "Epoch 17/50\n",
      "804/804 [==============================] - 1s 2ms/step - loss: 0.5454 - accuracy: 0.7327\n",
      "Epoch 18/50\n",
      "804/804 [==============================] - 1s 2ms/step - loss: 0.5448 - accuracy: 0.7334\n",
      "Epoch 19/50\n",
      "804/804 [==============================] - 1s 2ms/step - loss: 0.5446 - accuracy: 0.7321\n",
      "Epoch 20/50\n",
      "804/804 [==============================] - 1s 1ms/step - loss: 0.5429 - accuracy: 0.7343\n",
      "Epoch 21/50\n",
      "804/804 [==============================] - 1s 1ms/step - loss: 0.5432 - accuracy: 0.7336\n",
      "Epoch 22/50\n",
      "804/804 [==============================] - 1s 2ms/step - loss: 0.5425 - accuracy: 0.7349\n",
      "Epoch 23/50\n",
      "804/804 [==============================] - 1s 1ms/step - loss: 0.5421 - accuracy: 0.7350\n",
      "Epoch 24/50\n",
      "804/804 [==============================] - 1s 1ms/step - loss: 0.5421 - accuracy: 0.7325\n",
      "Epoch 25/50\n",
      "804/804 [==============================] - 1s 1ms/step - loss: 0.5419 - accuracy: 0.7354\n",
      "Epoch 26/50\n",
      "804/804 [==============================] - 1s 2ms/step - loss: 0.5408 - accuracy: 0.7341\n",
      "Epoch 27/50\n",
      "804/804 [==============================] - 1s 2ms/step - loss: 0.5411 - accuracy: 0.7347\n",
      "Epoch 28/50\n",
      "804/804 [==============================] - 1s 1ms/step - loss: 0.5408 - accuracy: 0.7351\n",
      "Epoch 29/50\n",
      "804/804 [==============================] - 1s 2ms/step - loss: 0.5397 - accuracy: 0.7349\n",
      "Epoch 30/50\n",
      "804/804 [==============================] - 1s 1ms/step - loss: 0.5397 - accuracy: 0.7355\n",
      "Epoch 31/50\n",
      "804/804 [==============================] - 1s 2ms/step - loss: 0.5397 - accuracy: 0.7346\n",
      "Epoch 32/50\n",
      "804/804 [==============================] - 1s 2ms/step - loss: 0.5390 - accuracy: 0.7360\n",
      "Epoch 33/50\n",
      "804/804 [==============================] - 1s 2ms/step - loss: 0.5386 - accuracy: 0.7362\n",
      "Epoch 34/50\n",
      "804/804 [==============================] - 1s 1ms/step - loss: 0.5381 - accuracy: 0.7363\n",
      "Epoch 35/50\n",
      "804/804 [==============================] - 1s 1ms/step - loss: 0.5379 - accuracy: 0.7358\n",
      "Epoch 36/50\n",
      "804/804 [==============================] - 1s 1ms/step - loss: 0.5378 - accuracy: 0.7358\n",
      "Epoch 37/50\n",
      "804/804 [==============================] - 1s 1ms/step - loss: 0.5371 - accuracy: 0.7343\n",
      "Epoch 38/50\n",
      "804/804 [==============================] - 1s 2ms/step - loss: 0.5365 - accuracy: 0.7380\n",
      "Epoch 39/50\n",
      "804/804 [==============================] - 1s 2ms/step - loss: 0.5365 - accuracy: 0.7367\n",
      "Epoch 40/50\n",
      "804/804 [==============================] - 1s 2ms/step - loss: 0.5362 - accuracy: 0.7370\n",
      "Epoch 41/50\n",
      "804/804 [==============================] - 1s 1ms/step - loss: 0.5361 - accuracy: 0.7366\n",
      "Epoch 42/50\n",
      "804/804 [==============================] - 1s 2ms/step - loss: 0.5350 - accuracy: 0.7379\n",
      "Epoch 43/50\n",
      "804/804 [==============================] - 1s 1ms/step - loss: 0.5355 - accuracy: 0.7365\n",
      "Epoch 44/50\n",
      "804/804 [==============================] - 1s 1ms/step - loss: 0.5354 - accuracy: 0.7371\n",
      "Epoch 45/50\n",
      "804/804 [==============================] - 1s 1ms/step - loss: 0.5343 - accuracy: 0.7364\n",
      "Epoch 46/50\n",
      "804/804 [==============================] - 1s 1ms/step - loss: 0.5339 - accuracy: 0.7386\n",
      "Epoch 47/50\n",
      "804/804 [==============================] - 1s 2ms/step - loss: 0.5335 - accuracy: 0.7380\n",
      "Epoch 48/50\n",
      "804/804 [==============================] - 1s 1ms/step - loss: 0.5335 - accuracy: 0.7388\n",
      "Epoch 49/50\n",
      "804/804 [==============================] - 1s 1ms/step - loss: 0.5335 - accuracy: 0.7387\n",
      "Epoch 50/50\n",
      "804/804 [==============================] - 1s 2ms/step - loss: 0.5330 - accuracy: 0.7389\n"
     ]
    }
   ],
   "source": [
    "# Fit the model using 50 epochs and the training data\n",
    "fit_model_A1 = nnn_A1.fit(X_train_scaled, y_train, epochs=50)"
   ]
  },
  {
   "cell_type": "code",
   "execution_count": 129,
   "metadata": {},
   "outputs": [
    {
     "name": "stdout",
     "output_type": "stream",
     "text": [
      "268/268 - 0s - loss: 0.5573 - accuracy: 0.7271 - 303ms/epoch - 1ms/step\n",
      "Loss: 0.5573394298553467, Accuracy: 0.7271137237548828\n"
     ]
    }
   ],
   "source": [
    "# Evaluate the model loss and accuracy metrics using the evaluate method and the test data\n",
    "model_loss, model_accuracy = nnn_A1.evaluate(X_test_scaled, y_test, verbose=2)\n",
    "\n",
    "# Display the model loss and accuracy results\n",
    "print(f\"Loss: {model_loss}, Accuracy: {model_accuracy}\")"
   ]
  },
  {
   "cell_type": "markdown",
   "metadata": {},
   "source": [
    "#### Alternative Model 2"
   ]
  },
  {
   "cell_type": "code",
   "execution_count": 130,
   "metadata": {},
   "outputs": [
    {
     "name": "stdout",
     "output_type": "stream",
     "text": [
      "Model: \"sequential_15\"\n",
      "_________________________________________________________________\n",
      " Layer (type)                Output Shape              Param #   \n",
      "=================================================================\n",
      " dense_34 (Dense)            (None, 22)                2574      \n",
      "                                                                 \n",
      " dense_35 (Dense)            (None, 1)                 23        \n",
      "                                                                 \n",
      "=================================================================\n",
      "Total params: 2,597\n",
      "Trainable params: 2,597\n",
      "Non-trainable params: 0\n",
      "_________________________________________________________________\n"
     ]
    }
   ],
   "source": [
    "number_output_neurons_A2 = 1\n",
    "# Define the number of hidden nodes for the first hidden layer\n",
    "hidden_nodes_layer1_A2 = 22\n",
    "\n",
    "# Review the number of hidden nodes in the first layer\n",
    "hidden_nodes_layer1_A2\n",
    "22\n",
    "# Define the number of hidden nodes for the second hidden layer\n",
    "hidden_nodes_layer2_A2 = 256\n",
    "\n",
    "# Review the number of hidden nodes in the second layer\n",
    "hidden_nodes_layer2_A2\n",
    "256\n",
    "# Create the Sequential model instance\n",
    "nn_A2 = Sequential()\n",
    "# First hidden layer\n",
    "nn_A2.add(Dense(input_dim=number_input_features, units=hidden_nodes_layer1_A2, activation=\"sigmoid\"))\n",
    "\n",
    "# Output layer\n",
    "nn_A2.add(Dense(units=number_output_neurons_A2, activation=\"sigmoid\"))\n",
    "\n",
    "# Check the structure of the model\n",
    "nn_A2.summary()"
   ]
  },
  {
   "cell_type": "code",
   "execution_count": 131,
   "metadata": {},
   "outputs": [
    {
     "name": "stdout",
     "output_type": "stream",
     "text": [
      "Epoch 1/50\n",
      "804/804 [==============================] - 1s 1ms/step - loss: 0.6125 - accuracy: 0.6871\n",
      "Epoch 2/50\n",
      "804/804 [==============================] - 1s 1ms/step - loss: 0.5727 - accuracy: 0.7223\n",
      "Epoch 3/50\n",
      "804/804 [==============================] - 1s 942us/step - loss: 0.5697 - accuracy: 0.7257\n",
      "Epoch 4/50\n",
      "804/804 [==============================] - 1s 957us/step - loss: 0.5673 - accuracy: 0.7254\n",
      "Epoch 5/50\n",
      "804/804 [==============================] - 1s 960us/step - loss: 0.5650 - accuracy: 0.7259\n",
      "Epoch 6/50\n",
      "804/804 [==============================] - 1s 938us/step - loss: 0.5623 - accuracy: 0.7269\n",
      "Epoch 7/50\n",
      "804/804 [==============================] - 1s 974us/step - loss: 0.5594 - accuracy: 0.7288\n",
      "Epoch 8/50\n",
      "804/804 [==============================] - 1s 976us/step - loss: 0.5569 - accuracy: 0.7294\n",
      "Epoch 9/50\n",
      "804/804 [==============================] - 1s 985us/step - loss: 0.5549 - accuracy: 0.7304\n",
      "Epoch 10/50\n",
      "804/804 [==============================] - 1s 1ms/step - loss: 0.5535 - accuracy: 0.7308\n",
      "Epoch 11/50\n",
      "804/804 [==============================] - 1s 979us/step - loss: 0.5517 - accuracy: 0.7317\n",
      "Epoch 12/50\n",
      "804/804 [==============================] - 1s 942us/step - loss: 0.5508 - accuracy: 0.7322\n",
      "Epoch 13/50\n",
      "804/804 [==============================] - 1s 926us/step - loss: 0.5495 - accuracy: 0.7317\n",
      "Epoch 14/50\n",
      "804/804 [==============================] - 1s 967us/step - loss: 0.5486 - accuracy: 0.7320\n",
      "Epoch 15/50\n",
      "804/804 [==============================] - 1s 927us/step - loss: 0.5477 - accuracy: 0.7322\n",
      "Epoch 16/50\n",
      "804/804 [==============================] - 1s 921us/step - loss: 0.5472 - accuracy: 0.7333\n",
      "Epoch 17/50\n",
      "804/804 [==============================] - 1s 1ms/step - loss: 0.5463 - accuracy: 0.7329\n",
      "Epoch 18/50\n",
      "804/804 [==============================] - 1s 1ms/step - loss: 0.5457 - accuracy: 0.7331\n",
      "Epoch 19/50\n",
      "804/804 [==============================] - 1s 937us/step - loss: 0.5451 - accuracy: 0.7326\n",
      "Epoch 20/50\n",
      "804/804 [==============================] - 1s 936us/step - loss: 0.5442 - accuracy: 0.7342\n",
      "Epoch 21/50\n",
      "804/804 [==============================] - 1s 936us/step - loss: 0.5441 - accuracy: 0.7333\n",
      "Epoch 22/50\n",
      "804/804 [==============================] - 1s 982us/step - loss: 0.5437 - accuracy: 0.7342\n",
      "Epoch 23/50\n",
      "804/804 [==============================] - 1s 936us/step - loss: 0.5433 - accuracy: 0.7329\n",
      "Epoch 24/50\n",
      "804/804 [==============================] - 1s 944us/step - loss: 0.5427 - accuracy: 0.7336\n",
      "Epoch 25/50\n",
      "804/804 [==============================] - 1s 942us/step - loss: 0.5424 - accuracy: 0.7336\n",
      "Epoch 26/50\n",
      "804/804 [==============================] - 1s 944us/step - loss: 0.5418 - accuracy: 0.7333\n",
      "Epoch 27/50\n",
      "804/804 [==============================] - 1s 1ms/step - loss: 0.5416 - accuracy: 0.7354\n",
      "Epoch 28/50\n",
      "804/804 [==============================] - 1s 991us/step - loss: 0.5413 - accuracy: 0.7341\n",
      "Epoch 29/50\n",
      "804/804 [==============================] - 1s 951us/step - loss: 0.5408 - accuracy: 0.7345\n",
      "Epoch 30/50\n",
      "804/804 [==============================] - 1s 919us/step - loss: 0.5405 - accuracy: 0.7342\n",
      "Epoch 31/50\n",
      "804/804 [==============================] - 1s 993us/step - loss: 0.5401 - accuracy: 0.7347\n",
      "Epoch 32/50\n",
      "804/804 [==============================] - 1s 936us/step - loss: 0.5400 - accuracy: 0.7350\n",
      "Epoch 33/50\n",
      "804/804 [==============================] - 1s 998us/step - loss: 0.5399 - accuracy: 0.7346\n",
      "Epoch 34/50\n",
      "804/804 [==============================] - 1s 936us/step - loss: 0.5394 - accuracy: 0.7353\n",
      "Epoch 35/50\n",
      "804/804 [==============================] - 1s 955us/step - loss: 0.5390 - accuracy: 0.7362\n",
      "Epoch 36/50\n",
      "804/804 [==============================] - 1s 957us/step - loss: 0.5389 - accuracy: 0.7351\n",
      "Epoch 37/50\n",
      "804/804 [==============================] - 1s 984us/step - loss: 0.5387 - accuracy: 0.7353\n",
      "Epoch 38/50\n",
      "804/804 [==============================] - 1s 948us/step - loss: 0.5384 - accuracy: 0.7354\n",
      "Epoch 39/50\n",
      "804/804 [==============================] - 1s 921us/step - loss: 0.5383 - accuracy: 0.7359\n",
      "Epoch 40/50\n",
      "804/804 [==============================] - 1s 945us/step - loss: 0.5380 - accuracy: 0.7357\n",
      "Epoch 41/50\n",
      "804/804 [==============================] - 1s 930us/step - loss: 0.5378 - accuracy: 0.7371\n",
      "Epoch 42/50\n",
      "804/804 [==============================] - 1s 966us/step - loss: 0.5376 - accuracy: 0.7363\n",
      "Epoch 43/50\n",
      "804/804 [==============================] - 1s 976us/step - loss: 0.5374 - accuracy: 0.7371\n",
      "Epoch 44/50\n",
      "804/804 [==============================] - 1s 989us/step - loss: 0.5374 - accuracy: 0.7366\n",
      "Epoch 45/50\n",
      "804/804 [==============================] - 1s 982us/step - loss: 0.5373 - accuracy: 0.7358\n",
      "Epoch 46/50\n",
      "804/804 [==============================] - 1s 981us/step - loss: 0.5368 - accuracy: 0.7366\n",
      "Epoch 47/50\n",
      "804/804 [==============================] - 1s 926us/step - loss: 0.5369 - accuracy: 0.7366\n",
      "Epoch 48/50\n",
      "804/804 [==============================] - 1s 954us/step - loss: 0.5367 - accuracy: 0.7370\n",
      "Epoch 49/50\n",
      "804/804 [==============================] - 1s 990us/step - loss: 0.5363 - accuracy: 0.7374\n",
      "Epoch 50/50\n",
      "804/804 [==============================] - 1s 917us/step - loss: 0.5364 - accuracy: 0.7373\n"
     ]
    }
   ],
   "source": [
    "# Compile the model\n",
    "nn_A2.compile(loss=\"binary_crossentropy\", optimizer=\"adam\", metrics=[\"accuracy\"])\n",
    "# Fit the model\n",
    "fit_model_A2 = nn_A2.fit(X_train_scaled, y_train, epochs=50)"
   ]
  },
  {
   "cell_type": "code",
   "execution_count": 132,
   "metadata": {},
   "outputs": [
    {
     "name": "stdout",
     "output_type": "stream",
     "text": [
      "268/268 - 0s - loss: 0.5505 - accuracy: 0.7329 - 254ms/epoch - 948us/step\n",
      "Loss: 0.5505408644676208, Accuracy: 0.7329446077346802\n"
     ]
    }
   ],
   "source": [
    "# Evaluate the model loss and accuracy metrics using the evaluate method and the test data\n",
    "model_loss, model_accuracy = nn_A2.evaluate(X_test_scaled, y_test, verbose=2)\n",
    "\n",
    "# Display the model loss and accuracy results\n",
    "print(f\"Loss: {model_loss}, Accuracy: {model_accuracy}\")"
   ]
  },
  {
   "cell_type": "markdown",
   "metadata": {},
   "source": [
    "### Step 2: After finishing your models, display the accuracy scores achieved by each model, and compare the results."
   ]
  },
  {
   "cell_type": "code",
   "execution_count": 133,
   "metadata": {},
   "outputs": [
    {
     "name": "stdout",
     "output_type": "stream",
     "text": [
      "Original Model Results\n",
      "268/268 - 0s - loss: 0.5567 - accuracy: 0.7306 - 193ms/epoch - 719us/step\n",
      "Loss: 0.5566797256469727, Accuracy: 0.7306122183799744\n"
     ]
    }
   ],
   "source": [
    "print(\"Original Model Results\")\n",
    "\n",
    "# Evaluate the model loss and accuracy metrics using the evaluate method and the test data\n",
    "model_loss, model_accuracy = nn.evaluate(X_test_scaled, y_test, verbose=2)\n",
    "\n",
    "# Display the model loss and accuracy results\n",
    "print(f\"Loss: {model_loss}, Accuracy: {model_accuracy}\")"
   ]
  },
  {
   "cell_type": "code",
   "execution_count": 135,
   "metadata": {},
   "outputs": [
    {
     "name": "stdout",
     "output_type": "stream",
     "text": [
      "Alternative Model 1 Results\n",
      "268/268 - 0s - loss: 0.5573 - accuracy: 0.7271 - 229ms/epoch - 853us/step\n",
      "Loss: 0.5573394298553467, Accuracy: 0.7271137237548828\n"
     ]
    }
   ],
   "source": [
    "print(\"Alternative Model 1 Results\")\n",
    "\n",
    "# Evaluate the model loss and accuracy metrics using the evaluate method and the test data\n",
    "model_loss, model_accuracy = nnn_A1.evaluate(X_test_scaled, y_test, verbose=2)\n",
    "\n",
    "# Display the model loss and accuracy results\n",
    "print(f\"Loss: {model_loss}, Accuracy: {model_accuracy}\")"
   ]
  },
  {
   "cell_type": "code",
   "execution_count": 136,
   "metadata": {},
   "outputs": [
    {
     "name": "stdout",
     "output_type": "stream",
     "text": [
      "Alternative Model 2 Results\n",
      "268/268 - 0s - loss: 0.5505 - accuracy: 0.7329 - 188ms/epoch - 702us/step\n",
      "Loss: 0.5505408644676208, Accuracy: 0.7329446077346802\n"
     ]
    }
   ],
   "source": [
    "print(\"Alternative Model 2 Results\")\n",
    "\n",
    "# Evaluate the model loss and accuracy metrics using the evaluate method and the test data\n",
    "model_loss, model_accuracy = nn_A2.evaluate(X_test_scaled, y_test, verbose=2)\n",
    "\n",
    "# Display the model loss and accuracy results\n",
    "print(f\"Loss: {model_loss}, Accuracy: {model_accuracy}\")"
   ]
  },
  {
   "cell_type": "markdown",
   "metadata": {},
   "source": [
    "### Step 3: Save each of your alternative models as an HDF5 file.\n"
   ]
  },
  {
   "cell_type": "code",
   "execution_count": null,
   "metadata": {},
   "outputs": [],
   "source": [
    "# Set the file path for the first alternative model\n",
    "file_path = # YOUR CODE HERE\n",
    "\n",
    "# Export your model to a HDF5 file\n",
    "# YOUR CODE HERE\n"
   ]
  },
  {
   "cell_type": "code",
   "execution_count": null,
   "metadata": {},
   "outputs": [],
   "source": [
    "# Set the file path for the second alternative model\n",
    "file_path = # YOUR CODE HERE\n",
    "\n",
    "# Export your model to a HDF5 file\n",
    "# YOUR CODE HERE\n"
   ]
  },
  {
   "cell_type": "code",
   "execution_count": null,
   "metadata": {},
   "outputs": [],
   "source": []
  }
 ],
 "metadata": {
  "kernelspec": {
   "display_name": "Python 3 (ipykernel)",
   "language": "python",
   "name": "python3"
  },
  "language_info": {
   "codemirror_mode": {
    "name": "ipython",
    "version": 3
   },
   "file_extension": ".py",
   "mimetype": "text/x-python",
   "name": "python",
   "nbconvert_exporter": "python",
   "pygments_lexer": "ipython3",
   "version": "3.10.9"
  }
 },
 "nbformat": 4,
 "nbformat_minor": 4
}
